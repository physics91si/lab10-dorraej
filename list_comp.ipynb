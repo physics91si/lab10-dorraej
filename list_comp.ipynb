{
 "cells": [
  {
   "cell_type": "code",
   "execution_count": 2,
   "metadata": {},
   "outputs": [
    {
     "data": {
      "text/plain": [
       "['a', 'b', 'c', 'd', 'e', 'f', 'g', 'h', 'i', 'j']"
      ]
     },
     "execution_count": 2,
     "metadata": {},
     "output_type": "execute_result"
    }
   ],
   "source": [
    "import string\n",
    "alphabet = string.ascii_lowercase\n",
    "[alphabet[i] for i in range(10)]"
   ]
  },
  {
   "cell_type": "code",
   "execution_count": 3,
   "metadata": {},
   "outputs": [
    {
     "data": {
      "text/plain": [
       "['a', 'b', 'c', 'd', 'e', 'g', 'h', 'i', 'j']"
      ]
     },
     "execution_count": 3,
     "metadata": {},
     "output_type": "execute_result"
    }
   ],
   "source": [
    "[alphabet[i] for i in range(10) if i!=5]"
   ]
  },
  {
   "cell_type": "code",
   "execution_count": 14,
   "metadata": {},
   "outputs": [
    {
     "data": {
      "text/plain": [
       "['a',\n",
       " 'aa',\n",
       " 'aaa',\n",
       " 'b',\n",
       " 'bb',\n",
       " 'bbb',\n",
       " 'c',\n",
       " 'cc',\n",
       " 'ccc',\n",
       " 'd',\n",
       " 'dd',\n",
       " 'ddd',\n",
       " 'e',\n",
       " 'ee',\n",
       " 'eee',\n",
       " 'g',\n",
       " 'gg',\n",
       " 'ggg',\n",
       " 'h',\n",
       " 'hh',\n",
       " 'hhh',\n",
       " 'i',\n",
       " 'ii',\n",
       " 'iii',\n",
       " 'j',\n",
       " 'jj',\n",
       " 'jjj']"
      ]
     },
     "execution_count": 14,
     "metadata": {},
     "output_type": "execute_result"
    }
   ],
   "source": [
    "[a*(j+1) for i,a in enumerate(alphabet[:10]) if i!=5 for j in range(3)]"
   ]
  },
  {
   "cell_type": "code",
   "execution_count": 15,
   "metadata": {},
   "outputs": [
    {
     "data": {
      "text/plain": [
       "[['a', 'aa', 'aaa'],\n",
       " ['b', 'bb', 'bbb'],\n",
       " ['c', 'cc', 'ccc'],\n",
       " ['d', 'dd', 'ddd'],\n",
       " ['e', 'ee', 'eee'],\n",
       " ['g', 'gg', 'ggg'],\n",
       " ['h', 'hh', 'hhh'],\n",
       " ['i', 'ii', 'iii'],\n",
       " ['j', 'jj', 'jjj']]"
      ]
     },
     "execution_count": 15,
     "metadata": {},
     "output_type": "execute_result"
    }
   ],
   "source": [
    "[[a*(j+1) for j in range(3)] for i,a in enumerate(alphabet[:10]) if i!=5 ]"
   ]
  },
  {
   "cell_type": "code",
   "execution_count": 22,
   "metadata": {},
   "outputs": [
    {
     "data": {
      "text/plain": [
       "[['A', 'aa', 'aaa'],\n",
       " ['b', 'B', 'bbb'],\n",
       " ['c', 'cc', 'C'],\n",
       " ['D', 'dd', 'ddd'],\n",
       " ['e', 'E', 'eee'],\n",
       " ['G', 'gg', 'ggg'],\n",
       " ['h', 'H', 'hhh'],\n",
       " ['i', 'ii', 'I'],\n",
       " ['J', 'jj', 'jjj']]"
      ]
     },
     "execution_count": 22,
     "metadata": {},
     "output_type": "execute_result"
    }
   ],
   "source": [
    "[[a.upper()  if i%3 == j else a*(j+1) for j in range(3) ] for i,a in enumerate(alphabet[:10]) if i!=5 ]"
   ]
  }
 ],
 "metadata": {
  "kernelspec": {
   "display_name": "Python 3",
   "language": "python",
   "name": "python3"
  },
  "language_info": {
   "codemirror_mode": {
    "name": "ipython",
    "version": 3
   },
   "file_extension": ".py",
   "mimetype": "text/x-python",
   "name": "python",
   "nbconvert_exporter": "python",
   "pygments_lexer": "ipython3",
   "version": "3.6.7"
  }
 },
 "nbformat": 4,
 "nbformat_minor": 2
}
